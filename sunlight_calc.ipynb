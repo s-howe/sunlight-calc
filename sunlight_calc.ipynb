{
 "cells": [
  {
   "cell_type": "code",
   "execution_count": 44,
   "metadata": {},
   "outputs": [],
   "source": [
    "from os import getenv\n",
    "from datetime import datetime, timedelta\n",
    "from math import degrees\n",
    "import ephem\n",
    "from dotenv import load_dotenv\n",
    "\n",
    "load_dotenv();"
   ]
  },
  {
   "cell_type": "code",
   "execution_count": 36,
   "metadata": {},
   "outputs": [],
   "source": [
    "BALCONY_LAT = getenv('BALCONY_LAT')\n",
    "BALCONY_LON = getenv('BALCONY_LON')\n",
    "ELEVATION = 34.0"
   ]
  },
  {
   "cell_type": "code",
   "execution_count": 40,
   "metadata": {},
   "outputs": [],
   "source": [
    "class SunObserver:\n",
    "    def __init__(self, lat: float, lon: float, elevation: float) -> None:\n",
    "        self._observer = ephem.Observer()\n",
    "        self._observer.lat = lat\n",
    "        self._observer.lon = lon\n",
    "        self._observer.elevation = elevation\n",
    "        self._sun = ephem.Sun()\n",
    "\n",
    "    def get_sunset_time_on_date(self, d: datetime) -> datetime:\n",
    "        self._observer.date = d\n",
    "        sunset = self._observer.next_setting(self._sun)\n",
    "        return ephem.localtime(sunset)\n",
    "    \n",
    "    def get_sunset_azimuth_on_date(self, d: datetime) -> float:\n",
    "        # Set observer datetime to sunset on given date\n",
    "        self._observer.date = self.get_sunset_time_on_date(d)\n",
    "        self._sun.compute(self._observer)\n",
    "        return degrees(self._sun.az)\n",
    "    \n",
    "    def get_next_date_with_sunset_azimuth_greater_than(\n",
    "            self, degrees: float, start_date: datetime = datetime.now()\n",
    "        ) -> datetime:\n",
    "        for i in range(365):\n",
    "            d = start_date + timedelta(days=i)\n",
    "            az = self.get_sunset_azimuth_on_date(d)\n",
    "            if az > degrees:\n",
    "                return d\n"
   ]
  },
  {
   "cell_type": "code",
   "execution_count": 41,
   "metadata": {},
   "outputs": [
    {
     "data": {
      "text/plain": [
       "datetime.datetime(2024, 3, 24, 18, 27, 32, 315152)"
      ]
     },
     "execution_count": 41,
     "metadata": {},
     "output_type": "execute_result"
    }
   ],
   "source": [
    "sun_observer = SunObserver(BALCONY_LAT, BALCONY_LON, ELEVATION)\n",
    "sun_observer.get_sunset_time_on_date(datetime.now())"
   ]
  },
  {
   "cell_type": "code",
   "execution_count": 42,
   "metadata": {},
   "outputs": [
    {
     "data": {
      "text/plain": [
       "286.2172739994434"
      ]
     },
     "execution_count": 42,
     "metadata": {},
     "output_type": "execute_result"
    }
   ],
   "source": [
    "sun_observer.get_sunset_azimuth_on_date(datetime.now())"
   ]
  },
  {
   "cell_type": "code",
   "execution_count": 49,
   "metadata": {},
   "outputs": [
    {
     "data": {
      "text/plain": [
       "datetime.datetime(2024, 5, 17, 10, 13, 33, 593311)"
      ]
     },
     "execution_count": 49,
     "metadata": {},
     "output_type": "execute_result"
    }
   ],
   "source": [
    "sun_observer.get_next_date_with_sunset_azimuth_greater_than(330)"
   ]
  },
  {
   "cell_type": "code",
   "execution_count": null,
   "metadata": {},
   "outputs": [],
   "source": []
  }
 ],
 "metadata": {
  "kernelspec": {
   "display_name": "venv",
   "language": "python",
   "name": "python3"
  },
  "language_info": {
   "codemirror_mode": {
    "name": "ipython",
    "version": 3
   },
   "file_extension": ".py",
   "mimetype": "text/x-python",
   "name": "python",
   "nbconvert_exporter": "python",
   "pygments_lexer": "ipython3",
   "version": "3.12.2"
  }
 },
 "nbformat": 4,
 "nbformat_minor": 2
}
