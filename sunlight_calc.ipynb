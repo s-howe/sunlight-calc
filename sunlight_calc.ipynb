{
 "cells": [
  {
   "cell_type": "code",
   "execution_count": 1,
   "metadata": {},
   "outputs": [],
   "source": [
    "from os import getenv\n",
    "from datetime import datetime, timedelta\n",
    "from math import degrees\n",
    "import ephem\n",
    "from dotenv import load_dotenv\n",
    "\n",
    "load_dotenv();"
   ]
  },
  {
   "cell_type": "code",
   "execution_count": 2,
   "metadata": {},
   "outputs": [],
   "source": [
    "BALCONY_LAT = getenv('BALCONY_LAT')\n",
    "BALCONY_LON = getenv('BALCONY_LON')\n",
    "\n",
    "# This is not my balcony's elevation, but the elevation of my city above sea level.\n",
    "# This is due to the way ephem treats an observer's elevation to be the same as the \n",
    "# horizon.\n",
    "ELEVATION = 34.0"
   ]
  },
  {
   "cell_type": "code",
   "execution_count": 3,
   "metadata": {},
   "outputs": [],
   "source": [
    "class SunObserver(ephem.Observer):\n",
    "    \"\"\"Extends an ephem.Observer object to only observe the sun. Adds\n",
    "    convenient methods to calculate times and positions of sunsets.\n",
    "    \"\"\"\n",
    "    def __init__(self, lat: str | float, lon: str | float, elevation: float) -> None:\n",
    "        \"\"\"Initializes the SunObserver object, setting the sun as a\n",
    "        private property to be accessed from the added methods.\n",
    "\n",
    "        Args:\n",
    "            lat: The observer's latitude.\n",
    "            lon: The observer's longitude.\n",
    "            elevation: The observer's elevation. ephem treats this as if the horizon is\n",
    "                also this elevation, so ensure this is the general elevation of the\n",
    "                surrounding area, rather than if the observer is standing on a high\n",
    "                object relative to the horizon.\n",
    "        \"\"\"\n",
    "        super().__init__()\n",
    "        self.lat = str(lat)\n",
    "        self.lon = str(lon)\n",
    "        self.elevation = elevation\n",
    "        self._sun = ephem.Sun()\n",
    "\n",
    "    def get_sunset_on_date(self, d: datetime) -> tuple[datetime, float]:\n",
    "        \"\"\"Finds the sunset time and azimuth (horizon angle) on a given date.\"\"\"\n",
    "        self.date = d\n",
    "        sunset_time = self.next_setting(self._sun)\n",
    "\n",
    "        # Set observer datetime to the date's sunset time to compute azimuth at sunset\n",
    "        self.date = sunset_time\n",
    "        self._sun.compute(self)\n",
    "        return ephem.localtime(sunset_time), degrees(self._sun.az)\n",
    "    \n",
    "    def get_next_date_with_sunset_azimuth_greater_than(\n",
    "            self, min_azimuth: float, start_date: datetime = datetime.now()\n",
    "        ) -> datetime:\n",
    "        \"\"\"Finds the next date on which the sunset will occur with an azimuth greater\n",
    "        than the given angle.\n",
    "        \n",
    "        Args:\n",
    "            min_azimuth: The minimum sunset azimuth (horizon angle) in degrees.\n",
    "            start_date: The date from which to begin the iteration.\n",
    "        \"\"\"\n",
    "        for i in range(365):\n",
    "            d = start_date + timedelta(days=i)\n",
    "            sunset_time, sunset_azimuth = self.get_sunset_on_date(d)\n",
    "            if sunset_azimuth > min_azimuth:\n",
    "                return sunset_time\n"
   ]
  },
  {
   "cell_type": "code",
   "execution_count": 4,
   "metadata": {},
   "outputs": [
    {
     "name": "stdout",
     "output_type": "stream",
     "text": [
      "The next sunset will be at 2024-03-24 18:27\n",
      "The sun will set at 274° on the horizon.\n"
     ]
    }
   ],
   "source": [
    "sun_observer = SunObserver(BALCONY_LAT, BALCONY_LON, ELEVATION)\n",
    "next_sunset_time, next_sunset_azimuth = sun_observer.get_sunset_on_date(datetime.now())\n",
    "print(f'The next sunset will be at {next_sunset_time:%Y-%m-%d %H:%M}')\n",
    "print(f'The sun will set at {next_sunset_azimuth:.0f}° on the horizon.')"
   ]
  },
  {
   "cell_type": "markdown",
   "metadata": {},
   "source": [
    "## Calculating the next visible sunset from my balcony"
   ]
  },
  {
   "cell_type": "markdown",
   "metadata": {},
   "source": [
    "The line of sight from my balcony to the horizon is mostly blocked by a very high wall.\n",
    "The minimum line of sight is around 310°. I would like to know on which day I can expect\n",
    "to see the sunset from my balcony."
   ]
  },
  {
   "cell_type": "code",
   "execution_count": 5,
   "metadata": {},
   "outputs": [
    {
     "name": "stdout",
     "output_type": "stream",
     "text": [
      "The next sunset visible from my balcony will be at 2024-06-02 21:21\n"
     ]
    }
   ],
   "source": [
    "BALCONY_MIN_AZIMUTH = 310\n",
    "\n",
    "next_visible_sunset_time = sun_observer.get_next_date_with_sunset_azimuth_greater_than(\n",
    "    BALCONY_MIN_AZIMUTH\n",
    ")\n",
    "\n",
    "print(\n",
    "    f'The next sunset visible from my balcony will be at '\n",
    "    f'{next_visible_sunset_time:%Y-%m-%d %H:%M}'\n",
    ")"
   ]
  },
  {
   "cell_type": "markdown",
   "metadata": {},
   "source": [
    "## Adding complexity with sunset altitude\n",
    "\n",
    "In truth, I can't actually see the horizon from my balcony. I look over a cemetery, but\n",
    "there are houses on the other side of the cemetery that block the direct line of sight\n",
    "from my balcony to the horizon. Therefore, my \"sunset\" will actually take place a few \n",
    "degrees above the horizon.\n",
    "\n",
    "I need to adjust my calculations to account for this."
   ]
  },
  {
   "cell_type": "code",
   "execution_count": 6,
   "metadata": {},
   "outputs": [],
   "source": [
    "# The degrees of altitude at which the line of sight from my balcony to the sun is \n",
    "# blocked by buildings.\n",
    "BALCONY_MIN_ALTITUDE = 2"
   ]
  },
  {
   "cell_type": "code",
   "execution_count": null,
   "metadata": {},
   "outputs": [],
   "source": [
    "# TODO: wind backwards in time from sunset until the sun is at least at the min \n",
    "#     altitude. Use this position to calculate the next day I will get sun on my \n",
    "#     balcony."
   ]
  }
 ],
 "metadata": {
  "kernelspec": {
   "display_name": "venv",
   "language": "python",
   "name": "python3"
  },
  "language_info": {
   "codemirror_mode": {
    "name": "ipython",
    "version": 3
   },
   "file_extension": ".py",
   "mimetype": "text/x-python",
   "name": "python",
   "nbconvert_exporter": "python",
   "pygments_lexer": "ipython3",
   "version": "3.12.2"
  }
 },
 "nbformat": 4,
 "nbformat_minor": 2
}
