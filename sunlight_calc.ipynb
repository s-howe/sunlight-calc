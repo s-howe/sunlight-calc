{
 "cells": [
  {
   "cell_type": "code",
   "execution_count": 1,
   "metadata": {},
   "outputs": [],
   "source": [
    "from os import getenv\n",
    "from datetime import datetime, timedelta\n",
    "from math import degrees\n",
    "import ephem\n",
    "from dotenv import load_dotenv\n",
    "\n",
    "load_dotenv();"
   ]
  },
  {
   "cell_type": "code",
   "execution_count": 2,
   "metadata": {},
   "outputs": [],
   "source": [
    "BALCONY_LAT = getenv('BALCONY_LAT')\n",
    "BALCONY_LON = getenv('BALCONY_LON')\n",
    "\n",
    "# This is not my balcony's elevation, but the elevation of my city above sea level.\n",
    "# This is due to the way ephem treats an observer's elevation to be the same as the \n",
    "# horizon.\n",
    "ELEVATION = 34.0"
   ]
  },
  {
   "cell_type": "code",
   "execution_count": 13,
   "metadata": {},
   "outputs": [],
   "source": [
    "class SunObserver(ephem.Observer):\n",
    "    \"\"\"Extends an ephem.Observer object to only observe the sun. Adds\n",
    "    convenient methods to calculate times and positions of sunsets.\n",
    "    \"\"\"\n",
    "    def __init__(self, lat: str | float, lon: str | float, elevation: float) -> None:\n",
    "        \"\"\"Initializes the SunObserver object, setting the sun as a\n",
    "        private property to be accessed from the added methods.\n",
    "\n",
    "        Args:\n",
    "            lat: The observer's latitude.\n",
    "            lon: The observer's longitude.\n",
    "            elevation: The observer's elevation. ephem treats this as if the horizon is\n",
    "                also this elevation, so ensure this is the general elevation of the\n",
    "                surrounding area, rather than if the observer is standing on a high\n",
    "                object relative to the horizon.\n",
    "        \"\"\"\n",
    "        super().__init__()\n",
    "        self.lat = str(lat)\n",
    "        self.lon = str(lon)\n",
    "        self.elevation = elevation\n",
    "        self._sun = ephem.Sun()\n",
    "\n",
    "    def get_sunset_time_on_date(self, d: datetime) -> datetime:\n",
    "        self.date = d\n",
    "        sunset = self.next_setting(self._sun)\n",
    "        return ephem.localtime(sunset)\n",
    "    \n",
    "    def get_sunset_azimuth_on_date(self, d: datetime) -> float:\n",
    "        # Set observer datetime to sunset time on given date\n",
    "        self.date = self.get_sunset_time_on_date(d)\n",
    "        self._sun.compute(self)\n",
    "        return degrees(self._sun.az)\n",
    "    \n",
    "    def get_next_date_with_sunset_azimuth_greater_than(\n",
    "            self, degrees: float, start_date: datetime = datetime.now()\n",
    "        ) -> datetime:\n",
    "        for i in range(365):\n",
    "            d = start_date + timedelta(days=i)\n",
    "            az = self.get_sunset_azimuth_on_date(d)\n",
    "            if az > degrees:\n",
    "                return self.get_sunset_time_on_date(d)\n"
   ]
  },
  {
   "cell_type": "code",
   "execution_count": 14,
   "metadata": {},
   "outputs": [
    {
     "name": "stdout",
     "output_type": "stream",
     "text": [
      "The next sunset will be at 2024-03-24 18:27\n"
     ]
    }
   ],
   "source": [
    "sun_observer = SunObserver(BALCONY_LAT, BALCONY_LON, ELEVATION)\n",
    "next_sunset_time = sun_observer.get_sunset_time_on_date(datetime.now())\n",
    "print(f'The next sunset will be at {next_sunset_time:%Y-%m-%d %H:%M}')"
   ]
  },
  {
   "cell_type": "code",
   "execution_count": 15,
   "metadata": {},
   "outputs": [
    {
     "name": "stdout",
     "output_type": "stream",
     "text": [
      "The next sunset will take place at 286° on the horizon.\n"
     ]
    }
   ],
   "source": [
    "next_sunset_degrees = sun_observer.get_sunset_azimuth_on_date(datetime.now())\n",
    "print(f'The next sunset will take place at {next_sunset_degrees:.0f}° on the horizon.')"
   ]
  },
  {
   "cell_type": "markdown",
   "metadata": {},
   "source": [
    "The line of sight from my balcony to the horizon is mostly blocked by a very high wall.\n",
    "The minimum line of sight is around 310°. I would like to know on which day I can expect\n",
    "to see the sunset from my balcony."
   ]
  },
  {
   "cell_type": "code",
   "execution_count": 16,
   "metadata": {},
   "outputs": [
    {
     "name": "stdout",
     "output_type": "stream",
     "text": [
      "The next sunset visible from my balcony will be at 2024-04-10 19:57\n"
     ]
    }
   ],
   "source": [
    "BALCONY_MIN_AZIMUTH = 310\n",
    "next_visible_sunset_time = sun_observer.get_next_date_with_sunset_azimuth_greater_than(\n",
    "    BALCONY_MIN_AZIMUTH\n",
    ")\n",
    "print(\n",
    "    f'The next sunset visible from my balcony will be at '\n",
    "    f'{next_visible_sunset_time:%Y-%m-%d %H:%M}'\n",
    ")"
   ]
  },
  {
   "cell_type": "code",
   "execution_count": null,
   "metadata": {},
   "outputs": [],
   "source": []
  }
 ],
 "metadata": {
  "kernelspec": {
   "display_name": "venv",
   "language": "python",
   "name": "python3"
  },
  "language_info": {
   "codemirror_mode": {
    "name": "ipython",
    "version": 3
   },
   "file_extension": ".py",
   "mimetype": "text/x-python",
   "name": "python",
   "nbconvert_exporter": "python",
   "pygments_lexer": "ipython3",
   "version": "3.12.2"
  }
 },
 "nbformat": 4,
 "nbformat_minor": 2
}
